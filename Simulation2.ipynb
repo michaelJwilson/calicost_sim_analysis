{
 "cells": [
  {
   "cell_type": "code",
   "execution_count": 1,
   "id": "a344e1b3-97b2-444f-8f9c-4a2c46fe9441",
   "metadata": {},
   "outputs": [],
   "source": [
    "%load_ext autoreload\n",
    "%autoreload 2"
   ]
  },
  {
   "cell_type": "code",
   "execution_count": null,
   "id": "5b2e44b7-199f-472e-8ed2-b2616fbc4a41",
   "metadata": {},
   "outputs": [],
   "source": [
    "import pprint\n",
    "import numpy as np\n",
    "import pandas as pd\n",
    "from pathlib import Path\n",
    "\n",
    "from matplotlib import pyplot as plt\n",
    "import seaborn as sns\n",
    "import scanpy as sc\n",
    "\n",
    "from sklearn.metrics import adjusted_rand_score\n",
    "from IPython.display import display, HTML\n",
    "\n",
    "import warnings\n",
    "from numba.core.errors import NumbaDeprecationWarning\n",
    "\n",
    "from calicost import arg_parse"
   ]
  },
  {
   "cell_type": "code",
   "execution_count": null,
   "id": "1acead95-229a-4d09-8fdf-6ba7fd2f06fb",
   "metadata": {},
   "outputs": [],
   "source": [
    "from sim_analysis import (\n",
    "    get_config,\n",
    "    get_sampleid,\n",
    "    get_best_r_hmrf,\n",
    "    get_rdrbaf,\n",
    "    get_true_clones_path,\n",
    "    get_true_clones,\n",
    "    get_sim_runs,\n",
    "    get_numbat_path,\n",
    "    get_numbat_clones,\n",
    "    get_starch_clones,\n",
    "    plot_true_clones,\n",
    "    get_calico_clones,\n",
    "    read_gene_loc,\n",
    "    read_true_gene_cna,\n",
    "    read_calico_gene_cna,\n",
    "    read_numbat_gene_cna,\n",
    "    read_starch_gene_cna,\n",
    "    compute_gene_F1,\n",
    "    get_aris, \n",
    "    plot_aris,\n",
    "    get_f1s,\n",
    "    plot_f1s,\n",
    "    plot_calico_clones\n",
    ")"
   ]
  },
  {
   "cell_type": "markdown",
   "id": "534ccacf-7ce3-4867-97c6-aebcadcdf117",
   "metadata": {},
   "source": [
    "## Configuration"
   ]
  },
  {
   "cell_type": "code",
   "execution_count": null,
   "id": "693bfcab-44a6-4ae5-b54c-9a1506aa0b14",
   "metadata": {},
   "outputs": [],
   "source": [
    "warnings.filterwarnings(\"ignore\", \"is_categorical_dtype\")\n",
    "warnings.filterwarnings(\"ignore\", \"use_inf_as_na\")\n",
    "warnings.simplefilter('ignore', category=NumbaDeprecationWarning)\n",
    "warnings.filterwarnings(\"ignore\", category=pd.errors.DtypeWarning)"
   ]
  },
  {
   "cell_type": "code",
   "execution_count": null,
   "id": "33eb2b80-fef5-4476-ad89-12e2ed6387db",
   "metadata": {},
   "outputs": [],
   "source": [
    "pd.set_option('display.max_rows', 10)\n",
    "plt.rcParams.update({'font.size': 14})\n",
    "sc.set_figure_params(dpi=120)"
   ]
  },
  {
   "cell_type": "code",
   "execution_count": null,
   "id": "20fd260c-a20d-4e03-aacf-01ffc7951e1b",
   "metadata": {},
   "outputs": [],
   "source": [
    "! pwd"
   ]
  },
  {
   "cell_type": "code",
   "execution_count": null,
   "id": "d2dea3d1-2282-4c59-b4f6-3dc440ae77c9",
   "metadata": {},
   "outputs": [],
   "source": [
    "true_dir = \"../simulated_data_related\"\n",
    "calico_pure_dir = \"../nomixing_calicost_related\"\n",
    "numbat_dir = \"../numbat_related\"\n",
    "starch_dir = \"../starch_related\"\n",
    "\n",
    "# hg_table_file = \"/nfs/turbo/umms-congma1/projects/CalicoST/GRCh38_resources/hgTables_hg38_gencode.txt\"\n",
    "hg_table_file = \"/Users/mw9568/Work/ragr/CalicoST/GRCh38_resources/hgTables_hg38_gencode.txt\""
   ]
  },
  {
   "cell_type": "markdown",
   "id": "43528898-c1ac-49ec-9758-ed0130af62a9",
   "metadata": {},
   "source": [
    "## Preface"
   ]
  },
  {
   "cell_type": "markdown",
   "id": "5de354af-67a0-4624-b672-3936524e0e51",
   "metadata": {},
   "source": [
    "Note:\n",
    " - min. 100 spots per clone\n",
    " - assumes (max.) of 3 clones"
   ]
  },
  {
   "cell_type": "markdown",
   "id": "49536a7f-949a-4ba6-8e0c-a8cd8144952e",
   "metadata": {},
   "source": [
    "### Available Runs"
   ]
  },
  {
   "cell_type": "code",
   "execution_count": null,
   "id": "c62206d0-22f9-4b24-91e9-268280254b8e",
   "metadata": {},
   "outputs": [],
   "source": [
    "sim_runs = get_sim_runs()\n",
    "sim_runs"
   ]
  },
  {
   "cell_type": "markdown",
   "id": "3bac4481-d866-4c9c-b5ee-83c8358dc991",
   "metadata": {},
   "source": [
    "### Config for a given run"
   ]
  },
  {
   "cell_type": "code",
   "execution_count": null,
   "id": "ef0e087f-cf78-462f-9a34-2bc6b067ae82",
   "metadata": {},
   "outputs": [],
   "source": [
    "config_path = \"../nomixing_calicost_related//numcnas1.2_cnasize1e7_ploidy2_random0/configfile0\"\n",
    "\n",
    "config = get_config(config_path)\n",
    "pprint.pprint(config)"
   ]
  },
  {
   "cell_type": "code",
   "execution_count": null,
   "id": "c64a1df0-6b4f-445b-8760-9ed67dcf6c86",
   "metadata": {},
   "outputs": [],
   "source": [
    "rdrbaf = get_rdrbaf(config_path, 3, relative_path=\"../nomixing_calicost_related/\", verbose=False)\n",
    "\n",
    "# NB (# states x # clones TBC).\n",
    "rdrbaf[\"new_log_mu\"].shape, rdrbaf[\"new_alphas\"].shape, rdrbaf[\"new_p_binom\"].shape, rdrbaf['log_gamma'].shape, rdrbaf['total_llf']"
   ]
  },
  {
   "cell_type": "code",
   "execution_count": null,
   "id": "9fd0aaa0-c090-4626-8247-c0dc97a45e1a",
   "metadata": {},
   "outputs": [],
   "source": [
    "random_state = 9\n",
    "\n",
    "# state = [(3, 3), \"3e7\", 2, random_state]\n",
    "state = [(1, 2), \"1e7\", 2, random_state]\n",
    "\n",
    "true = plot_true_clones(true_dir, *state)\n",
    "est = plot_calico_clones(calico_pure_dir, *state, true_dir)"
   ]
  },
  {
   "cell_type": "markdown",
   "id": "c7861ef0-5759-4e64-ba98-4e666394bce1",
   "metadata": {},
   "source": [
    "# Clone identification accuracy"
   ]
  },
  {
   "cell_type": "code",
   "execution_count": null,
   "id": "a2d3fe7c-13f0-474c-9a99-296040bef440",
   "metadata": {},
   "outputs": [],
   "source": [
    "calico_clones = get_calico_clones(calico_pure_dir, *state, true_dir=true_dir)\n",
    "calico_clones"
   ]
  },
  {
   "cell_type": "code",
   "execution_count": null,
   "id": "4e624dac-5fbb-4f58-919c-6790c2e83b5f",
   "metadata": {},
   "outputs": [],
   "source": []
  },
  {
   "cell_type": "code",
   "execution_count": null,
   "id": "b50cc429-5617-4e9a-90ab-69bcc56eee3a",
   "metadata": {},
   "outputs": [],
   "source": []
  },
  {
   "cell_type": "code",
   "execution_count": null,
   "id": "9ca7378f-2961-4d03-ba83-150d61167e04",
   "metadata": {},
   "outputs": [],
   "source": [
    "starch_clones = get_starch_clones(starch_dir, get_sampleid((3, 3), \"3e7\", 2, 0), true_clones=true_clones)\n",
    "starch_clones"
   ]
  },
  {
   "cell_type": "code",
   "execution_count": null,
   "id": "fb8015fb-4392-480b-85b8-99fd747124ce",
   "metadata": {},
   "outputs": [],
   "source": [
    "clone_aris = get_aris(true_dir, calico_pure_dir, numbat_dir, starch_dir)\n",
    "clone_aris"
   ]
  },
  {
   "cell_type": "code",
   "execution_count": null,
   "id": "0f1531f0-fc63-4480-a700-4ab5c584f4b2",
   "metadata": {},
   "outputs": [],
   "source": [
    "plot_aris(clone_aris)"
   ]
  },
  {
   "cell_type": "markdown",
   "id": "85f688da-6a49-41c3-9a23-d153ccc09075",
   "metadata": {},
   "source": [
    "# Event detection accuracy\n",
    "\n",
    "The detection accuracy is evalated on a per-gene level:\n",
    "the precision & sensitivity of genes involved in each category of event (Deletion, Amplication, LOH) for all events."
   ]
  },
  {
   "cell_type": "code",
   "execution_count": null,
   "id": "7818d877-d1ff-456d-9b2e-2b7685070dd9",
   "metadata": {},
   "outputs": [],
   "source": [
    "# NB (chr, start, end) for a given gene list.\n",
    "df_hgtable = read_gene_loc(hg_table_file)\n",
    "df_hgtable"
   ]
  },
  {
   "cell_type": "code",
   "execution_count": null,
   "id": "3194a858-6120-4b01-836f-8fa5c423ea30",
   "metadata": {},
   "outputs": [],
   "source": [
    "df_event_f1 = get_f1s(true_dir, df_hgtable, calico_pure_dir, numbat_dir, starch_dir)\n",
    "df_event_f1"
   ]
  },
  {
   "cell_type": "code",
   "execution_count": null,
   "id": "71ad9fd3-0a48-47a6-897d-2fb96cead2f9",
   "metadata": {},
   "outputs": [],
   "source": [
    "plot_f1s(df_event_f1)"
   ]
  },
  {
   "cell_type": "markdown",
   "id": "4565170d-9ad0-4c40-86cc-34afc598941f",
   "metadata": {},
   "source": [
    "# Done."
   ]
  }
 ],
 "metadata": {
  "kernelspec": {
   "display_name": "Python (calicost_env)",
   "language": "python",
   "name": "calicost_sim"
  },
  "language_info": {
   "codemirror_mode": {
    "name": "ipython",
    "version": 3
   },
   "file_extension": ".py",
   "mimetype": "text/x-python",
   "name": "python",
   "nbconvert_exporter": "python",
   "pygments_lexer": "ipython3",
   "version": "3.10.0"
  }
 },
 "nbformat": 4,
 "nbformat_minor": 5
}
